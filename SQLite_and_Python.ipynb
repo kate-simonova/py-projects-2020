{
 "cells": [
  {
   "cell_type": "markdown",
   "metadata": {},
   "source": [
    "# SQLite and Python"
   ]
  },
  {
   "cell_type": "markdown",
   "metadata": {},
   "source": [
    "The first thing I did for this homework was to download SQlite browser (https://sqlitebrowser.org/blog/version-3-11-2-released/) for me just to be sure it is there. Then, I created functions, which helped me to connect and load data to SQLite and also query tables after data is loaded."
   ]
  },
  {
   "cell_type": "code",
   "execution_count": 5,
   "metadata": {},
   "outputs": [],
   "source": [
    "import sqlite3\n",
    "\n",
    "# create connection to SQLite\n",
    "def load_data_to_SQLite(db_name, table_name, column_name1, column_name2):\n",
    "    con = sqlite3.connect(db_name)\n",
    "    cur = con.cursor()\n",
    "    cur.execute(f\"DROP TABLE IF EXISTS {table_name};\")\n",
    "    cur.execute(f\"CREATE TABLE {table_name} ({column_name1} TEXT, {column_name2} REAL);\")\n",
    "    cur.executemany(f\"INSERT INTO {table_name} ({column_name1}, {column_name2}) VALUES (?, ?);\", to_db)\n",
    "    con.commit()\n",
    "    con.close()\n",
    "\n",
    "# querying in SQLite\n",
    "def load_data_from_SQLite(db_name, query):\n",
    "    con = sqlite3.connect(db_name)\n",
    "    cur = con.cursor()\n",
    "    result = cur.execute(query)\n",
    "    for i, row in enumerate(result, start=1):\n",
    "        print(i, row)\n",
    "    con.close()\n",
    "    return result"
   ]
  },
  {
   "cell_type": "markdown",
   "metadata": {},
   "source": [
    "In this part, I use my load_data_to_SQlite function to load staty_lide.log and staty_plochy.log into SQLite."
   ]
  },
  {
   "cell_type": "code",
   "execution_count": 6,
   "metadata": {},
   "outputs": [],
   "source": [
    "# load data into python IDE as dictionary\n",
    "country_area = {}\n",
    "with open('staty_plochy.log', 'r') as file:\n",
    "    for row in file:\n",
    "        country, area = row.strip().split(': ')\n",
    "        country_area[country] = float(area)\n",
    "        to_db = [(key, val) for key, val in country_area.items()]\n",
    "        # loading data to SQLite\n",
    "        load_data_to_SQLite('staty.db', 'staty', 'Countries', 'Areas') # staty.db does not exist so will be created\n",
    "\n",
    "# load data into python IDE as dictionary\n",
    "country_people = {}\n",
    "with open('staty_lidi.log', 'r') as file:\n",
    "    for row in file:\n",
    "        country, people = row.strip().split(': ')\n",
    "        country_people[country] = int(people)\n",
    "        to_db = [(key, val) for key, val in country_people.items()]\n",
    "        # loading data to SQLite\n",
    "        load_data_to_SQLite('staty.db', 'lide', 'Countries', 'Population')  # data will be loaded to staty.db as it exists"
   ]
  },
  {
   "cell_type": "markdown",
   "metadata": {},
   "source": [
    "In this part I answer the questions which are stated in the homework."
   ]
  },
  {
   "cell_type": "code",
   "execution_count": 7,
   "metadata": {},
   "outputs": [
    {
     "name": "stdout",
     "output_type": "stream",
     "text": [
      "The ten most populous states in the world, including their area are: \n",
      "1 ('China', 1300000000.0, 9596960.0)\n",
      "2 ('India', 1070000000.0, 3287590.0)\n",
      "3 ('United States', 293000000.0, 9631418.0)\n",
      "4 ('Indonesia', 238000000.0, 1919440.0)\n",
      "5 ('Brazil', 184000000.0, 8511965.0)\n",
      "6 ('Pakistan', 159000000.0, 803940.0)\n",
      "7 ('Russia', 144000000.0, 17075200.0)\n",
      "8 ('Bangladesh', 141000000.0, 144000.0)\n",
      "9 ('Nigeria', 137000000.0, 923768.0)\n",
      "10 ('Japan', 127000000.0, 377835.0)\n",
      "\n",
      "The ten most densely populated countries are: \n",
      "1 ('Macau', 17519.68503937008)\n",
      "2 ('Monaco', 16564.102564102566)\n",
      "3 ('Hong Kong', 6282.051282051282)\n",
      "4 ('Singapore', 6279.774794283239)\n",
      "5 ('Gibraltar', 4276.923076923077)\n",
      "6 ('Gaza Strip', 3666.6666666666665)\n",
      "7 ('Holy See (Vatican City)', 2093.181818181818)\n",
      "8 ('Malta', 1256.3291139240507)\n",
      "9 ('Bermuda', 1217.6360225140713)\n",
      "10 ('Maldives', 1130.0)\n",
      "\n",
      "Countries where nobody lives are: \n",
      "1 ('French Southern and Antarctic Lands',)\n",
      "2 ('South Georgia and the South Sandwich Islands',)\n",
      "3 ('Jan Mayen',)\n",
      "4 ('Dhekelia',)\n",
      "5 ('Akrotiri',)\n",
      "6 ('British Indian Ocean Territory',)\n",
      "7 ('Bouvet Island',)\n",
      "8 ('Europa Island',)\n",
      "9 ('Palmyra Atoll',)\n",
      "10 ('Wake Island',)\n",
      "11 ('Midway Islands',)\n",
      "12 ('Clipperton Island',)\n",
      "13 ('Navassa Island',)\n",
      "14 ('Ashmore and Cartier Islands',)\n",
      "15 ('Glorioso Islands',)\n",
      "16 ('Spratly Islands',)\n",
      "17 ('Jarvis Island',)\n",
      "18 ('Juan de Nova Island',)\n",
      "19 ('Coral Sea Islands',)\n",
      "20 ('Howland Island',)\n",
      "21 ('Baker Island',)\n",
      "22 ('Kingman Reef',)\n",
      "23 ('Tromelin Island',)\n",
      "24 ('Bassas da India',)\n"
     ]
    },
    {
     "data": {
      "text/plain": [
       "<sqlite3.Cursor at 0x2c018030d50>"
      ]
     },
     "execution_count": 7,
     "metadata": {},
     "output_type": "execute_result"
    }
   ],
   "source": [
    "# the ten most populous states in the world, including their area\n",
    "print('The ten most populous states in the world, including their area are: ')\n",
    "load_data_from_SQLite('staty.db',\n",
    "                    '''SELECT lide.Countries, lide.Population, staty.Areas\n",
    "                        FROM lide INNER JOIN staty ON staty.Countries = lide.Countries\n",
    "                        ORDER BY lide.Population DESC\n",
    "                        LIMIT 10''')\n",
    "print()\n",
    "\n",
    "# the ten most densely populated countries\n",
    "print('The ten most densely populated countries are: ')\n",
    "load_data_from_SQLite('staty.db',\n",
    "                    '''SELECT lide.Countries, lide.Population/staty.Areas AS density\n",
    "                        FROM lide INNER JOIN staty ON staty.Countries = lide.Countries\n",
    "                        ORDER BY density DESC\n",
    "                        LIMIT 10''')\n",
    "print()\n",
    "\n",
    "# countries where nobody lives\n",
    "print('Countries where nobody lives are: ')\n",
    "load_data_from_SQLite('staty.db',\n",
    "                    '''SELECT staty.Countries\n",
    "                        FROM staty LEFT OUTER JOIN lide ON staty.Countries = lide.Countries\n",
    "                        WHERE lide.Population IS NULL''')"
   ]
  },
  {
   "cell_type": "code",
   "execution_count": null,
   "metadata": {},
   "outputs": [],
   "source": []
  }
 ],
 "metadata": {
  "kernelspec": {
   "display_name": "Python 3",
   "language": "python",
   "name": "python3"
  },
  "language_info": {
   "codemirror_mode": {
    "name": "ipython",
    "version": 3
   },
   "file_extension": ".py",
   "mimetype": "text/x-python",
   "name": "python",
   "nbconvert_exporter": "python",
   "pygments_lexer": "ipython3",
   "version": "3.7.0"
  }
 },
 "nbformat": 4,
 "nbformat_minor": 4
}
